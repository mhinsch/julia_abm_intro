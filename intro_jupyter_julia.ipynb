{
 "cells": [
  {
   "cell_type": "markdown",
   "metadata": {},
   "source": [
    "# Jupyter"
   ]
  },
  {
   "cell_type": "markdown",
   "metadata": {},
   "source": [
    "Jupyter is a notebook interface originally built for JUlia, PYThon and R (and by now many more languages). It is not too different from RStudio. A few things to note:\n",
    "* Code is input in cells like this:"
   ]
  },
  {
   "cell_type": "code",
   "execution_count": 1,
   "metadata": {},
   "outputs": [
    {
     "data": {
      "text/plain": [
       "\"a value\""
      ]
     },
     "execution_count": 1,
     "metadata": {},
     "output_type": "execute_result"
    }
   ],
   "source": [
    "variable = \"a value\""
   ]
  },
  {
   "cell_type": "markdown",
   "metadata": {},
   "source": [
    "* Cells can be executed independently\n",
    "* in any order\n",
    "* but *the effects (e.g. changes in values of variables) apply every*"
   ]
  },
  {
   "cell_type": "code",
   "execution_count": 2,
   "metadata": {},
   "outputs": [
    {
     "data": {
      "text/plain": [
       "\"a value\""
      ]
     },
     "execution_count": 2,
     "metadata": {},
     "output_type": "execute_result"
    }
   ],
   "source": [
    "variable"
   ]
  },
  {
   "cell_type": "markdown",
   "metadata": {},
   "source": [
    "* If you want to start from scratch you have to restart the kernel (menu item 'Kernel')"
   ]
  },
  {
   "cell_type": "markdown",
   "metadata": {},
   "source": [
    "# Julia vs. R"
   ]
  },
  {
   "cell_type": "markdown",
   "metadata": {},
   "source": [
    "For our intents we can largely treat Julia as a \"fast R\". There are a few syntactic differences to be aware of, however:\n",
    "\n",
    "### Assignment\n",
    "\n",
    "```R\n",
    "a <- 42\n",
    "```\n",
    "\n",
    "becomes"
   ]
  },
  {
   "cell_type": "code",
   "execution_count": 3,
   "metadata": {},
   "outputs": [
    {
     "data": {
      "text/plain": [
       "42"
      ]
     },
     "execution_count": 3,
     "metadata": {},
     "output_type": "execute_result"
    }
   ],
   "source": [
    "a = 42"
   ]
  },
  {
   "cell_type": "markdown",
   "metadata": {},
   "source": [
    "### . vs. \\$ vs. _\n",
    "\n",
    "R uses . to separate words in names and \\$ to access components:\n",
    "\n",
    "```\n",
    "x <- my.data$first.column\n",
    "```\n",
    "\n",
    "Julia uses _ for word separation and . to access components:\n",
    "\n",
    "```Julia\n",
    "x = my_data.first_column # this will not work as my_data does not exist at this point\n",
    "```"
   ]
  },
  {
   "cell_type": "markdown",
   "metadata": {},
   "source": [
    "### Function declaration\n",
    "\n",
    "In R:\n",
    "```R\n",
    "fun <- function(x) {\n",
    "    2 * x\n",
    "    }\n",
    "```\n",
    "\n",
    "In Julia:"
   ]
  },
  {
   "cell_type": "code",
   "execution_count": 4,
   "metadata": {},
   "outputs": [
    {
     "data": {
      "text/plain": [
       "fun2 (generic function with 1 method)"
      ]
     },
     "execution_count": 4,
     "metadata": {},
     "output_type": "execute_result"
    }
   ],
   "source": [
    "function fun(x)\n",
    "    2 * x\n",
    "end\n",
    "\n",
    "# shorter version:\n",
    "\n",
    "fun2(x) = 2 * x"
   ]
  },
  {
   "cell_type": "markdown",
   "metadata": {},
   "source": [
    "### Types\n",
    "\n",
    "Types are sorts of objects in programming languages (think number versus text string). Most languages have them to some degree, but how they deal with them differs a lot.\n",
    "\n",
    "Generally speaking, R's type system is an unwieldy mess. R itself doesn't really care about types, so any checking (e.g. if that list your function received really is the sort it can operate on) has to be done manually.\n",
    "\n",
    "Julia in contrast has a sophisticated type system that allows for much safer code. At the same time typing is optional, so in many situations types can be left out and Julia will figure them out when needed."
   ]
  },
  {
   "cell_type": "code",
   "execution_count": 5,
   "metadata": {},
   "outputs": [
    {
     "name": "stdout",
     "output_type": "stream",
     "text": [
      "a: Int64\n",
      "b: Float64\n"
     ]
    }
   ],
   "source": [
    "# this function will only work on Integers\n",
    "mult(x::Int, y::Int) = x * y\n",
    "\n",
    "# in most situations, however generic functions are totally fine\n",
    "mult2(x, y) = x * y\n",
    "\n",
    "# Julia sees Integers and adds the types accordingly\n",
    "a = mult2(2, 3)\n",
    "println(\"a: \", typeof(a))\n",
    "\n",
    "# but we can now use the same function with float\n",
    "b = mult2(2.0, 3.0)\n",
    "println(\"b: \", typeof(b))\n",
    "\n",
    "# Note that for each combination of types a separate version \n",
    "# of mult2 will be generated internally and compiled to fast machine code. "
   ]
  },
  {
   "cell_type": "markdown",
   "metadata": {},
   "source": [
    "The huge advantage of this system and one the major pros of Julia is that it makes it possible to write programs without caring (too much) about types, similar to R or Python, while at the same time most (well-written) code can be compiled with type information and thus be made nearly as efficient as C or C++."
   ]
  },
  {
   "cell_type": "markdown",
   "metadata": {},
   "source": [
    "# More information"
   ]
  },
  {
   "cell_type": "markdown",
   "metadata": {},
   "source": [
    "* [Julia homepage](https://julialang.org)\n",
    "* [official documentation](https://docs.julialang.org/en/v1/)\n",
    "* [Discourse forum](https://discourse.julialang.org/) (active and friendly)\n",
    "* [some benchmarks](https://julialang.org/benchmarks/) (R does not fare well there...)\n",
    "* and of course [the source](https://github.com/JuliaLang/julia)"
   ]
  },
  {
   "cell_type": "code",
   "execution_count": null,
   "metadata": {},
   "outputs": [],
   "source": []
  }
 ],
 "metadata": {
  "@webio": {
   "lastCommId": null,
   "lastKernelId": null
  },
  "kernelspec": {
   "display_name": "Julia 1.2.0",
   "language": "julia",
   "name": "julia-1.2"
  },
  "language_info": {
   "file_extension": ".jl",
   "mimetype": "application/julia",
   "name": "julia",
   "version": "1.2.0"
  }
 },
 "nbformat": 4,
 "nbformat_minor": 2
}
