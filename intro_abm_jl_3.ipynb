{
 "cells": [
  {
   "cell_type": "markdown",
   "metadata": {},
   "source": [
    "# Introduction"
   ]
  },
  {
   "cell_type": "markdown",
   "metadata": {},
   "source": [
    "In this part I will show how to generate data using the simulation and display it. The simulation itself is unchanged compared to the previous notebook."
   ]
  },
  {
   "cell_type": "code",
   "execution_count": null,
   "metadata": {},
   "outputs": [],
   "source": [
    "using Random\n",
    "using DataFrames\n",
    "using Gadfly\n",
    "\n",
    "include(\"SimpleAgentEvents/src/SimpleAgentEvents.jl\")\n",
    "\n",
    "using .SimpleAgentEvents\n",
    "using .SimpleAgentEvents.Scheduler"
   ]
  },
  {
   "cell_type": "code",
   "execution_count": null,
   "metadata": {},
   "outputs": [],
   "source": [
    "@enum Status susceptible infected immune dead\n",
    "\n",
    "mutable struct Person\n",
    "    status :: Status\n",
    "    contacts :: Vector{Person}\n",
    "    x :: Float64\n",
    "    y :: Float64\n",
    "end\n",
    "\n",
    "Person(x, y) = Person(susceptible, [], x, y)\n",
    "Person(state, x, y) = Person(state, [], x, y)"
   ]
  },
  {
   "cell_type": "code",
   "execution_count": null,
   "metadata": {},
   "outputs": [],
   "source": [
    "mutable struct Simulation\n",
    "    scheduler :: PQScheduler{Float64}\n",
    "    inf :: Float64\n",
    "    rec :: Float64\n",
    "    imm :: Float64\n",
    "    mort :: Float64\n",
    "    \n",
    "    pop :: Vector{Person}\n",
    "end\n",
    "\n",
    "scheduler(sim :: Simulation) = sim.scheduler\n",
    "\n",
    "Simulation(i, r, u, m) = Simulation(PQScheduler{Float64}(), i, r, u, m, [])"
   ]
  },
  {
   "cell_type": "code",
   "execution_count": null,
   "metadata": {},
   "outputs": [],
   "source": [
    "@processes SIRm sim person::Person begin\n",
    "    @poisson(sim.inf * count(p -> p.status == infected, person.contacts)) ~\n",
    "        person.status == susceptible        => \n",
    "            begin\n",
    "                person.status = infected\n",
    "                [person; person.contacts]\n",
    "            end\n",
    "\n",
    "    @poisson(sim.rec)  ~\n",
    "        person.status == infected           => \n",
    "            begin\n",
    "                person.status = susceptible\n",
    "                [person; person.contacts]\n",
    "            end\n",
    "\n",
    "    @poisson(sim.imm)  ~\n",
    "        person.status == infected           => \n",
    "            begin\n",
    "                person.status = immune\n",
    "                person.contacts\n",
    "            end\n",
    "    \n",
    "    @poisson(sim.mort)  ~\n",
    "        person.status == infected           => \n",
    "            begin\n",
    "                person.status = dead\n",
    "                person.contacts\n",
    "            end    \n",
    "end\n"
   ]
  },
  {
   "cell_type": "code",
   "execution_count": null,
   "metadata": {},
   "outputs": [],
   "source": [
    "include(\"setup_world.jl\")\n",
    "include(\"draw.jl\")"
   ]
  },
  {
   "cell_type": "markdown",
   "metadata": {},
   "source": [
    "# Generating data"
   ]
  },
  {
   "cell_type": "markdown",
   "metadata": {},
   "source": [
    "To do meaningful things with a simulation it will almost always be necessary to run it many times and generate output in some systematic way. \n",
    "\n",
    "For this purpose all code concerning the execution of the model - setup, running, data collection - is now contained in a single function that only receives parameter values, number of time steps and random seed as input. "
   ]
  },
  {
   "cell_type": "code",
   "execution_count": null,
   "metadata": {},
   "outputs": [],
   "source": [
    "# this function runs the simulation on a grid world\n",
    "function run_grid(inf, rec, imm, mort, x, y, tim, seed)\n",
    "    # this part hasn't changed\n",
    "    \n",
    "    sim = Simulation(inf, rec, imm, mort)\n",
    "    sim.pop = setup_grid(x, y)\n",
    "    sim.pop[1].status = infected\n",
    "\n",
    "    for person in sim.pop\n",
    "        spawn_SIRm(person, sim)\n",
    "    end\n",
    "\n",
    "    Random.seed!(seed)\n",
    "    \n",
    "    # we create a few arrays to put the data in\n",
    "    n_inf = Int[]\n",
    "    n_susc = Int[]\n",
    "    n_imm = Int[]\n",
    "    n_dead = Int[]\n",
    "\n",
    "    \n",
    "    for t in  1:tim\n",
    "        # run a time step\n",
    "        upto!(sim.scheduler, time_now(sim.scheduler) + 1.0)\n",
    "        \n",
    "        # then count agents in all states and store the numbers in the arrays\n",
    "        push!(n_inf, count(p -> p.status == infected, sim.pop))\n",
    "        push!(n_susc, count(p -> p.status == susceptible, sim.pop))\n",
    "        push!(n_imm, count(p -> p.status == immune, sim.pop))\n",
    "        push!(n_dead, count(p -> p.status == dead, sim.pop))\n",
    "    end\n",
    "    \n",
    "    # we bundle up the arrays in a DataFrame for easier handling\n",
    "    DataFrame(inf = n_inf, susc = n_susc, imm = n_imm, dead = n_dead), sim\n",
    "end\n"
   ]
  },
  {
   "cell_type": "code",
   "execution_count": null,
   "metadata": {},
   "outputs": [],
   "source": [
    "# run the simulation on a random geometric graph\n",
    "# *set near < 0.05!* (otherwise there will be MANY connections and\n",
    "# the visualisation might crash your browser)\n",
    "function run_geograph(inf, rec, imm, mort, N, near, nc, tim, seed)\n",
    "    sim = Simulation(inf, rec, imm, mort)\n",
    "    sim.pop = setup_geograph(N, near, nc)\n",
    "    sim.pop[1].status = infected\n",
    "\n",
    "    for person in sim.pop\n",
    "        spawn_SIRm(person, sim)\n",
    "    end\n",
    "\n",
    "    Random.seed!(seed)\n",
    "    \n",
    "    n_inf = Int[]\n",
    "    n_susc = Int[]\n",
    "    n_imm = Int[]\n",
    "    n_dead = Int[]\n",
    "\n",
    "    \n",
    "    for t in  1:tim\n",
    "        upto!(sim.scheduler, time_now(sim.scheduler) + 1.0)\n",
    "        push!(n_inf, count(p -> p.status == infected, sim.pop))\n",
    "        push!(n_susc, count(p -> p.status == susceptible, sim.pop))\n",
    "        push!(n_imm, count(p -> p.status == immune, sim.pop))\n",
    "        push!(n_dead, count(p -> p.status == dead, sim.pop))\n",
    "    end\n",
    "    \n",
    "    DataFrame(inf = n_inf, susc = n_susc, imm = n_imm, dead = n_dead), sim\n",
    "end\n"
   ]
  },
  {
   "cell_type": "markdown",
   "metadata": {},
   "source": [
    "We can now conveniently run both model versions and compare the output."
   ]
  },
  {
   "cell_type": "code",
   "execution_count": null,
   "metadata": {},
   "outputs": [],
   "source": [
    "data, sim = run_grid(0.3, 0.1, 0.2, 0.1, 50, 50, 100, 42);"
   ]
  },
  {
   "cell_type": "code",
   "execution_count": null,
   "metadata": {},
   "outputs": [],
   "source": [
    "data2, sim2 = run_geograph(0.3, 0.1, 0.2, 0.1, 2500, 0.03, 100, 100, 42);"
   ]
  },
  {
   "cell_type": "markdown",
   "metadata": {},
   "source": [
    "The package we use for plotting is called Gadfly, it was heavily inspired by R's ggplot2."
   ]
  },
  {
   "cell_type": "code",
   "execution_count": null,
   "metadata": {},
   "outputs": [],
   "source": [
    "plot(data, layer(y=:inf, Geom.line, Theme(default_color=\"red\")),\n",
    "    layer(y=:susc, Geom.line, Theme(default_color=\"green\")),\n",
    "    layer(y=:imm, Geom.line, Theme(default_color=\"blue\")),\n",
    "    layer(y=:dead, Geom.line, Theme(default_color=\"grey\")))\n",
    "    "
   ]
  },
  {
   "cell_type": "code",
   "execution_count": null,
   "metadata": {},
   "outputs": [],
   "source": [
    "plot(data2, layer(y=:inf, Geom.line, Theme(default_color=\"red\")),\n",
    "    layer(y=:susc, Geom.line, Theme(default_color=\"green\")),\n",
    "    layer(y=:imm, Geom.line, Theme(default_color=\"blue\")),\n",
    "    layer(y=:dead, Geom.line, Theme(default_color=\"grey\")))"
   ]
  },
  {
   "cell_type": "code",
   "execution_count": null,
   "metadata": {},
   "outputs": [],
   "source": []
  }
 ],
 "metadata": {
  "@webio": {
   "lastCommId": null,
   "lastKernelId": null
  },
  "kernelspec": {
   "display_name": "Julia 1.2.0",
   "language": "julia",
   "name": "julia-1.2"
  },
  "language_info": {
   "file_extension": ".jl",
   "mimetype": "application/julia",
   "name": "julia",
   "version": "1.2.0"
  }
 },
 "nbformat": 4,
 "nbformat_minor": 2
}
