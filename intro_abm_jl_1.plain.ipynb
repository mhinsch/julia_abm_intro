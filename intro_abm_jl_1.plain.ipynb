{
 "cells": [
  {
   "cell_type": "markdown",
   "metadata": {},
   "source": [
    "# Introduction\n",
    "\n",
    "In the previous worksheet we have built a version of our agent-based epidemiological model with simple step-wise updating. Implementing models this way is a lot more straightforward and easier to understand for beginners. However, step-wise updating often leads to implicit, yet significant assumptions about the underlying process that are difficult to detect and change.\n",
    "\n",
    "In the following I am going to show how to implement an event-based version of the same model using a set of macros I have prepared."
   ]
  },
  {
   "cell_type": "markdown",
   "metadata": {},
   "source": [
    "# Prelude"
   ]
  },
  {
   "cell_type": "markdown",
   "metadata": {},
   "source": [
    "Our macro package is not installed but sits in the local directory. For complicated reasons there is no way to let Julia find local packages in this particular situation, therefore we have to `include` (i.e. read and insert) the code and then import the local module."
   ]
  },
  {
   "cell_type": "code",
   "execution_count": null,
   "metadata": {},
   "outputs": [],
   "source": [
    "using Random\n",
    "using Luxor\n",
    "using Plots\n",
    "\n",
    "# read the code that declares the module\n",
    "include(\"SimpleAgentEvents/src/SimpleAgentEvents.jl\")\n",
    "\n",
    "# actually import the module\n",
    "using .SimpleAgentEvents\n",
    "using .SimpleAgentEvents.Scheduler"
   ]
  },
  {
   "cell_type": "markdown",
   "metadata": {},
   "source": [
    "# Type declarations"
   ]
  },
  {
   "cell_type": "markdown",
   "metadata": {},
   "source": [
    "We start with the simple spatial SI model from the previous worksheet. The type therefore doesn't change but for the sake of brevity I have renamed it to `Person`."
   ]
  },
  {
   "cell_type": "code",
   "execution_count": null,
   "metadata": {},
   "outputs": [],
   "source": [
    "# all possible states a person can be in\n",
    "@enum Status susceptible infected\n",
    "\n",
    "# this is our agent type\n",
    "mutable struct Person\n",
    "    # state\n",
    "    status :: Status\n",
    "    # other agents this one can infect or be infected by\n",
    "    contacts :: Vector{Person}\n",
    "    # location in the world\n",
    "    x :: Float64\n",
    "    y :: Float64\n",
    "end\n",
    "\n",
    "# how we construct a person object\n",
    "Person(x, y) = Person(susceptible, [], x, y)\n",
    "Person(state, x, y) = Person(state, [], x, y)"
   ]
  },
  {
   "cell_type": "markdown",
   "metadata": {},
   "source": [
    "The simulation now has to include a scheduler object that is going to be used by the macros to keep track of the order of events that have to be executed."
   ]
  },
  {
   "cell_type": "code",
   "execution_count": null,
   "metadata": {},
   "outputs": [],
   "source": [
    "mutable struct Simulation\n",
    "    # the scheduler keeps track of which agent is going to do what when\n",
    "    scheduler :: PQScheduler{Float64}\n",
    "    # parameters:\n",
    "    # infection rate\n",
    "    inf :: Float64\n",
    "    # recovery rate\n",
    "    rec :: Float64\n",
    "\n",
    "    # and this is our population of agents\n",
    "    pop :: Vector{Person}\n",
    "end\n",
    "\n",
    "# the simulation system needs this for technical reasons\n",
    "scheduler(sim :: Simulation) = sim.scheduler\n",
    "\n",
    "Simulation(i, r, pop) = Simulation(PQScheduler{Float64}(), i, r, pop)"
   ]
  },
  {
   "cell_type": "markdown",
   "metadata": {},
   "source": [
    "# The model"
   ]
  },
  {
   "cell_type": "markdown",
   "metadata": {},
   "source": [
    "Now we can write our actual model. This looks a lot different from the previous version since we are using macro calls to declare *what* the model does instead of specifying in code *how* it does it. \n",
    "\n",
    "Sidenote: [Macros](https://docs.julialang.org/en/v1/manual/metaprogramming/#man-macros) in Julia are a way to modify source code before it is being compiled. They are similar in purpose to C's preprocessor macros or C++' templates but vastly more powerful. Effectively macros make it possible to extend the language with custom syntax. Macro calls in Julia always start with an `@` sign.\n",
    "\n",
    "The entire code block below is *one* single call of the macro `@processes` (I made `@poisson` look like a macro to make it stand out, but it isn't). The macro takes 4 arguments, in this case `SI`, `sim`, `person::Person` and the code block between `begin` and `end` and analyses them to produce a number of functions that we can then use to run our simulation.\n",
    "\n",
    "So, what does all that mean? `@processes` declares (between `begin` and `end`) a new set of activities called `SI` that can be performed by an object `person` of type `Person` using a simulation object `sim` (that has to contain a scheduler!). \n",
    "\n",
    "Each activity is declared with an event distribution (`@poisson` is the only one implemented at this point) that takes a rate (over time) as an argument. The second part of the activity declaration is the condition (after `~`) that determines *each time* whether the activity is executed or not and the actual code (after `=>`) to be called.\n",
    "\n",
    "In this case a `Person` object can \"do\" two things - it can become infected with a rate that is proportional to the number of infected contacts it has; or it can recover with a fixed rate over time.\n",
    "\n",
    "An important note: activity code (the part after `=>`) *has* to return a vector of *all* objects that might be affected by the event! There is no other way for the simulation to know that rates might have changed."
   ]
  },
  {
   "cell_type": "code",
   "execution_count": null,
   "metadata": {},
   "outputs": [],
   "source": [
    "# usage:\n",
    "# processes NAME SIMULATION AGENT ACTIONS\n",
    "@processes SI sim person::Person begin\n",
    " \n",
    "    # each action has the format\n",
    "    # distribution(rate) ~ condition => action\n",
    "    # currently only poisson is implemented\n",
    "    \n",
    "    # infection with rate proportional to prop. infected contacts\n",
    "    @poisson(sim.inf * count(p -> p.status == infected, person.contacts)/length(person.contacts)) ~\n",
    "        # a person has to be susceptible in order to get infected\n",
    "        person.status == susceptible        => \n",
    "            begin\n",
    "                # status changes\n",
    "                person.status = infected\n",
    "                # *important*: \n",
    "                # return all agents that need to be activated\n",
    "                # including *all* whose circumstances have changed\n",
    "                [person; person.contacts]\n",
    "            end\n",
    "\n",
    "    # recovery\n",
    "    @poisson(sim.rec)  ~\n",
    "        person.status == infected           => \n",
    "            begin\n",
    "                person.status = susceptible\n",
    "                [person; person.contacts]\n",
    "            end\n",
    "end\n",
    "\n",
    "# and this is the entire model"
   ]
  },
  {
   "cell_type": "markdown",
   "metadata": {},
   "source": [
    "# Running the model"
   ]
  },
  {
   "cell_type": "markdown",
   "metadata": {},
   "source": [
    "Now we can create the simulation and run it. We are again using the setup code in `setup_world.jl`."
   ]
  },
  {
   "cell_type": "code",
   "execution_count": null,
   "metadata": {},
   "outputs": [],
   "source": [
    "include(\"setup_world.jl\");"
   ]
  },
  {
   "cell_type": "markdown",
   "metadata": {},
   "source": [
    "This sets up the simulation and the agents. Nothing much has changed here from before."
   ]
  },
  {
   "cell_type": "code",
   "execution_count": null,
   "metadata": {},
   "outputs": [],
   "source": [
    "function setup_sim(;r_i, r_r, xs, ys, n_inf, seed)\n",
    "    # for reproducibility\n",
    "    Random.seed!(seed)\n",
    " \n",
    "    # create a population of agents living on a \n",
    "    # 50x50 grid (von Neumann)\n",
    "    pop = setup_grid(Person, xs, ys)\n",
    "\n",
    "    # create a simulation object with parameter values\n",
    "    sim = Simulation(r_i, r_r, pop)\n",
    "    \n",
    "    # pick n_inf random agents and set them to infected\n",
    "    for p in rand(sim.pop, n_inf)\n",
    "        p.status = infected\n",
    "    end\n",
    "\n",
    "    sim\n",
    "end"
   ]
  },
  {
   "cell_type": "markdown",
   "metadata": {},
   "source": [
    "Running the model works differently now. The scheduler takes care of executing events, however, we have to \"activate\" each object in the simulation once at the beginning. The `@processes` declaration above has created a function `spawn_SI` (note the suffix `SI`) for exactly that purpose."
   ]
  },
  {
   "cell_type": "code",
   "execution_count": null,
   "metadata": {},
   "outputs": [],
   "source": [
    "function spawn(sim)\n",
    "    # spawn activates agents\n",
    "    # this function was generated by the model declaration\n",
    "    for person in sim.pop\n",
    "        spawn_SI(person, sim)\n",
    "    end\n",
    "end"
   ]
  },
  {
   "cell_type": "markdown",
   "metadata": {},
   "source": [
    "Most of the `run_sim` function hasn't changed much either. Instead of explicitly calling update functions we now tell the scheduler to advance the time and execute all activities that happen in that time span. Note that the time step is completely arbitrary - instead of advancing 1 time units 10 times I could have just as well advanced 0.1 time units 100 times with exactly the same result (save for the frequency of output of course)."
   ]
  },
  {
   "cell_type": "code",
   "execution_count": null,
   "metadata": {},
   "outputs": [],
   "source": [
    "function run_sim(sim, to_time, verbose = false)\n",
    "    # we keep track of the numbers\n",
    "    n_inf = Int[]\n",
    "    n_susc = Int[]\n",
    "\n",
    "    while time_now(sim.scheduler) < to_time\n",
    "        # tell the scheduler to run all actions up to t+1\n",
    "        upto!(sim.scheduler, time_now(sim.scheduler) + 1.0)\n",
    "        push!(n_inf, count(p -> p.status == infected, sim.pop))\n",
    "        push!(n_susc, count(p -> p.status == susceptible, sim.pop))\n",
    "        # a bit of output\n",
    "        if verbose\n",
    "            println(t, \", \", n_inf[end], \", \", n_susc[end])\n",
    "        end\n",
    "    end\n",
    "    \n",
    "    # return the results (normalized by pop size)\n",
    "    n = length(sim.pop)\n",
    "    n_inf./n, n_susc./n\n",
    "end"
   ]
  },
  {
   "cell_type": "code",
   "execution_count": null,
   "metadata": {},
   "outputs": [],
   "source": [
    "sim = setup_sim(r_i=0.1, r_r=0.03, xs=50, ys=50, n_inf=10, seed=42)\n",
    "spawn(sim)\n",
    "inf, susc = run_sim(sim, 500.0)\n",
    "\n",
    "Plots.plot([susc, inf], labels = [\"susc\" \"inf\"])"
   ]
  },
  {
   "cell_type": "markdown",
   "metadata": {},
   "source": [
    "# Visualisation"
   ]
  },
  {
   "cell_type": "markdown",
   "metadata": {},
   "source": [
    "Our agent type hasn't changed, so we can just re-use the visualisation from the previous worksheet."
   ]
  },
  {
   "cell_type": "code",
   "execution_count": null,
   "metadata": {},
   "outputs": [],
   "source": [
    "# this uses the Luxor package, which allows for very straighforward \n",
    "# generation of SVG drawings\n",
    "@svg begin\n",
    "    # scale from model coordinates to screen coordinates\n",
    "    f_scale = 11\n",
    "    # size of agents\n",
    "    p_size = 5\n",
    "    \n",
    "    # otherwise we'll only have to lower right quarter\n",
    "    # (don't ask...)\n",
    "    origin(0, 0)\n",
    "\n",
    "    # paint it black\n",
    "    sethue(\"black\")\n",
    "    \n",
    "    # ** first draw all connections\n",
    "    # (we don't want to worry about agent size here,\n",
    "    #  so we just draw the lines from x1,y1 to x2,y2\n",
    "    #  and paint the agents on top of that)\n",
    "    \n",
    "    # for each agent\n",
    "    for p in sim.pop\n",
    "        x1 = p.x * f_scale\n",
    "        y1 = p.y * f_scale\n",
    "        \n",
    "        # draw all lines to other agents\n",
    "        for p2 in p.contacts\n",
    "            x2 = p2.x * f_scale\n",
    "            y2 = p2.y * f_scale\n",
    "            \n",
    "            setline(1)\n",
    "            setdash(\"solid\")\n",
    "            line(Point(x1, y1), Point(x2, y2), :stroke)\n",
    "        end\n",
    "    end\n",
    "    # yes, this draws all lines twice\n",
    "    # who cares\n",
    "\n",
    "    # ** now draw all agents\n",
    "    \n",
    "    for p in sim.pop\n",
    "        x = p.x * f_scale\n",
    "        y = p.y * f_scale\n",
    "        \n",
    "        # show the status as colours\n",
    "        if p.status == infected\n",
    "            sethue(\"red\")\n",
    "        elseif p.status == susceptible\n",
    "            sethue(\"blue\")\n",
    "        end\n",
    "        \n",
    "        circle(Point(x, y), p_size, :fill)\n",
    "    end\n",
    "end"
   ]
  },
  {
   "cell_type": "markdown",
   "metadata": {},
   "source": [
    "# Things to try\n",
    "\n",
    "* Run for longer, is there an equilibrium or an end state?\n",
    "* Try different values for `inf` and `rec`.\n",
    "* Does changing the shape of the world (`x` vs. `y` size) have an effect?\n",
    "* Add more patient zeros, e.g. at 50, 50."
   ]
  }
 ],
 "metadata": {
  "@webio": {
   "lastCommId": null,
   "lastKernelId": null
  },
  "kernelspec": {
   "display_name": "Julia 1.5.1",
   "language": "julia",
   "name": "julia-1.5"
  },
  "language_info": {
   "file_extension": ".jl",
   "mimetype": "application/julia",
   "name": "julia",
   "version": "1.5.1"
  }
 },
 "nbformat": 4,
 "nbformat_minor": 4
}
