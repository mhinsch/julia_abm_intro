{
 "cells": [
  {
   "cell_type": "code",
   "execution_count": 1,
   "metadata": {},
   "outputs": [],
   "source": [
    "using Random\n",
    "\n",
    "push!(LOAD_PATH, \".\")\n",
    "\n",
    "using SimpleAgentEvents\n",
    "using SimpleAgentEvents.Scheduler"
   ]
  },
  {
   "cell_type": "code",
   "execution_count": 2,
   "metadata": {},
   "outputs": [
    {
     "data": {
      "text/plain": [
       "Person"
      ]
     },
     "execution_count": 2,
     "metadata": {},
     "output_type": "execute_result"
    }
   ],
   "source": [
    "@enum Status susceptible infected recovered\n",
    "\n",
    "mutable struct Person\n",
    "    status :: Status\n",
    "    contacts :: Vector{Person}\n",
    "    x :: Int\n",
    "    y :: Int\n",
    "end\n",
    "\n",
    "Person(x, y) = Person(susceptible, [], x, y)\n",
    "Person(state, x, y) = Person(state, [], x, y)"
   ]
  },
  {
   "cell_type": "code",
   "execution_count": 3,
   "metadata": {},
   "outputs": [
    {
     "data": {
      "text/plain": [
       "Simulation"
      ]
     },
     "execution_count": 3,
     "metadata": {},
     "output_type": "execute_result"
    }
   ],
   "source": [
    "mutable struct Simulation\n",
    "    scheduler :: PQScheduler{Float64}\n",
    "    a :: Float64\n",
    "    b :: Float64\n",
    "    pop :: Vector{Person}\n",
    "end\n",
    "\n",
    "scheduler(sim :: Simulation) = sim.scheduler\n",
    "\n",
    "Simulation(a, b) = Simulation(PQScheduler{Float64}(), a, b, [])"
   ]
  },
  {
   "cell_type": "code",
   "execution_count": 4,
   "metadata": {},
   "outputs": [
    {
     "data": {
      "text/plain": [
       "process_poisson (generic function with 1 method)"
      ]
     },
     "execution_count": 4,
     "metadata": {},
     "output_type": "execute_result"
    }
   ],
   "source": [
    "@processes sim person::Person begin\n",
    "    @poisson(sim.a * count(p -> p.status == infected, person.contacts)) ~\n",
    "        person.status == susceptible        => begin\n",
    "                person.status = infected\n",
    "                [person; person.contacts]\n",
    "            end\n",
    "\n",
    "    @poisson(sim.b)  ~\n",
    "        person.status == infected           => begin\n",
    "                person.status = recovered\n",
    "                person.contacts\n",
    "            end\n",
    "end\n"
   ]
  },
  {
   "cell_type": "code",
   "execution_count": 5,
   "metadata": {},
   "outputs": [
    {
     "data": {
      "text/plain": [
       "setup_grid (generic function with 1 method)"
      ]
     },
     "execution_count": 5,
     "metadata": {},
     "output_type": "execute_result"
    }
   ],
   "source": [
    "include(\"setup_world.jl\")"
   ]
  },
  {
   "cell_type": "code",
   "execution_count": 12,
   "metadata": {},
   "outputs": [],
   "source": [
    "\n",
    "sim = Simulation(0.5, 0.1)\n",
    "sim.pop = setup_grid(50, 50)\n",
    "\n",
    "\n",
    "for person in sim.pop\n",
    "    spawn(person, sim)\n",
    "end\n",
    "\n",
    "Random.seed!(42);"
   ]
  },
  {
   "cell_type": "code",
   "execution_count": 15,
   "metadata": {},
   "outputs": [
    {
     "name": "stdout",
     "output_type": "stream",
     "text": [
      "21.0, 205, 142, 2153\n",
      "22.0, 228, 158, 2114\n",
      "23.0, 247, 180, 2073\n",
      "24.0, 287, 210, 2003\n",
      "25.0, 297, 240, 1963\n",
      "26.0, 314, 269, 1917\n",
      "27.0, 331, 300, 1869\n",
      "28.0, 350, 331, 1819\n",
      "29.0, 358, 366, 1776\n",
      "30.0, 365, 410, 1725\n"
     ]
    }
   ],
   "source": [
    "\n",
    "for t in  1:10\n",
    "    upto!(sim.scheduler, time_now(sim.scheduler) + 1.0)\n",
    "    println(time_now(sim.scheduler), \", \", \n",
    "        count(p -> p.status == infected, sim.pop), \", \",\n",
    "        count(p -> p.status == recovered, sim.pop), \", \",\n",
    "        count(p -> p.status == susceptible, sim.pop))\n",
    "end\n",
    "\n"
   ]
  },
  {
   "cell_type": "code",
   "execution_count": null,
   "metadata": {},
   "outputs": [],
   "source": []
  }
 ],
 "metadata": {
  "@webio": {
   "lastCommId": null,
   "lastKernelId": null
  },
  "kernelspec": {
   "display_name": "Julia 1.2.0",
   "language": "julia",
   "name": "julia-1.2"
  },
  "language_info": {
   "file_extension": ".jl",
   "mimetype": "application/julia",
   "name": "julia",
   "version": "1.2.0"
  }
 },
 "nbformat": 4,
 "nbformat_minor": 2
}
