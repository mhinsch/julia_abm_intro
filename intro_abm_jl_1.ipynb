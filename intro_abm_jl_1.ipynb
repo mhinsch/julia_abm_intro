{
 "cells": [
  {
   "cell_type": "markdown",
   "metadata": {},
   "source": [
    "# Introduction\n",
    "\n",
    "We are going to implement a very simple agent-based model of disease spread (an SI - susceptible-infected model) with some basic visualisation."
   ]
  },
  {
   "cell_type": "markdown",
   "metadata": {},
   "source": [
    "# Prelude"
   ]
  },
  {
   "cell_type": "markdown",
   "metadata": {},
   "source": [
    "We need to tell the system about some code we are going to use. `using` is Julia's `library`, `include` works the same way as `source`."
   ]
  },
  {
   "cell_type": "code",
   "execution_count": null,
   "metadata": {},
   "outputs": [],
   "source": [
    "using Random\n",
    "using Luxor\n",
    "\n",
    "include(\"SimpleAgentEvents/src/SimpleAgentEvents.jl\")\n",
    "\n",
    "# these modules are declared in the file we just included\n",
    "using .SimpleAgentEvents\n",
    "using .SimpleAgentEvents.Scheduler"
   ]
  },
  {
   "cell_type": "markdown",
   "metadata": {},
   "source": [
    "# Type declarations"
   ]
  },
  {
   "cell_type": "markdown",
   "metadata": {},
   "source": [
    "Now we need to tell Julia about how the objects look like that we are going to use. In contrast to R, most objects you want to use in Julia have a fixed layout that does not change (PS: R is the outlier here, most languages have structs, classes, records or similar).\n",
    "\n",
    "An `@enum` is a type that can only have a handful of named values, e.g.:\n",
    "```Julia\n",
    "@enum Boolean true false\n",
    "```\n",
    "\n",
    "A `struct` is like a list in R, but with a fixed number of elements (ideally with a fixed type)."
   ]
  },
  {
   "cell_type": "code",
   "execution_count": null,
   "metadata": {},
   "outputs": [],
   "source": [
    "# all possible states a person can be in\n",
    "@enum Status susceptible infected\n",
    "\n",
    "# this is our agent type\n",
    "mutable struct Person\n",
    "    # state\n",
    "    status :: Status\n",
    "    # other agents this one can infect or be infected by\n",
    "    contacts :: Vector{Person}\n",
    "    # location in the world\n",
    "    x :: Float64\n",
    "    y :: Float64\n",
    "end\n",
    "\n",
    "# how we construct a person object\n",
    "Person(x, y) = Person(susceptible, [], x, y)\n",
    "Person(state, x, y) = Person(state, [], x, y)"
   ]
  },
  {
   "cell_type": "markdown",
   "metadata": {},
   "source": [
    "The simulation itself is mainly used for bookkeeping."
   ]
  },
  {
   "cell_type": "code",
   "execution_count": null,
   "metadata": {},
   "outputs": [],
   "source": [
    "mutable struct Simulation\n",
    "    # the scheduler keeps track of which agent is going to do what when\n",
    "    scheduler :: PQScheduler{Float64}\n",
    "    # parameters:\n",
    "    # infection rate\n",
    "    inf :: Float64\n",
    "    # recovery rate\n",
    "    rec :: Float64\n",
    "\n",
    "    # and this is our population of agents\n",
    "    pop :: Vector{Person}\n",
    "end\n",
    "\n",
    "# the simulation system needs this for technical reasons\n",
    "scheduler(sim :: Simulation) = sim.scheduler\n",
    "\n",
    "Simulation(i, r) = Simulation(PQScheduler{Float64}(), i, r, [])"
   ]
  },
  {
   "cell_type": "markdown",
   "metadata": {},
   "source": [
    "# The model"
   ]
  },
  {
   "cell_type": "markdown",
   "metadata": {},
   "source": [
    "Now we can write our actual model. I am using a set of macros (declared in the SimpleAgentEvents file we included further up) that make it possible to create simple event-based simulations in a relatively straightforward manner."
   ]
  },
  {
   "cell_type": "code",
   "execution_count": null,
   "metadata": {},
   "outputs": [],
   "source": [
    "# usage:\n",
    "# processes NAME SIMULATION AGENT ACTIONS\n",
    "@processes SI sim person::Person begin\n",
    " \n",
    "    # each action has the format\n",
    "    # distribution(rate) ~ condition => action\n",
    "    # currently only poisson is implemented\n",
    "    \n",
    "    # infection with rate proportional to #infected contacts\n",
    "    @poisson(sim.inf * count(p -> p.status == infected, person.contacts)) ~\n",
    "        # a person has to be susceptible in order to get infected\n",
    "        person.status == susceptible        => \n",
    "            begin\n",
    "                # status changes\n",
    "                person.status = infected\n",
    "                # *important*: \n",
    "                # return all agents that need to be activated\n",
    "                # including *all* whose circumstances have changed\n",
    "                [person; person.contacts]\n",
    "            end\n",
    "\n",
    "    # recovery\n",
    "    @poisson(sim.rec)  ~\n",
    "        person.status == infected           => \n",
    "            begin\n",
    "                person.status = susceptible\n",
    "                person.contacts\n",
    "            end\n",
    "end\n",
    "\n",
    "# and this is the entire model"
   ]
  },
  {
   "cell_type": "markdown",
   "metadata": {},
   "source": [
    "# Running the model"
   ]
  },
  {
   "cell_type": "markdown",
   "metadata": {},
   "source": [
    "Now we can create the simulation and run it. The population setup is somewhat fiddly at this stage, so I have put it into a separate file."
   ]
  },
  {
   "cell_type": "code",
   "execution_count": null,
   "metadata": {},
   "outputs": [],
   "source": [
    "include(\"setup_world.jl\")"
   ]
  },
  {
   "cell_type": "markdown",
   "metadata": {},
   "source": [
    "This sets up the simulation and the agents."
   ]
  },
  {
   "cell_type": "code",
   "execution_count": null,
   "metadata": {},
   "outputs": [],
   "source": [
    "# create a simulation object with parameter values\n",
    "sim = Simulation(0.5, 0.1)\n",
    "# create a population of agents living on a \n",
    "# 50x50 grid (von Neumann)\n",
    "sim.pop = setup_grid(50, 50)\n",
    "# top left agent is infected\n",
    "sim.pop[1].status = infected\n",
    "\n",
    "# spawn activates agents\n",
    "# this function was generated by the model declaration\n",
    "for person in sim.pop\n",
    "    spawn_SI(person, sim)\n",
    "end\n",
    "\n",
    "# for reproducibility\n",
    "Random.seed!(42);"
   ]
  },
  {
   "cell_type": "markdown",
   "metadata": {},
   "source": [
    "And this runs the simulation for a few time steps."
   ]
  },
  {
   "cell_type": "code",
   "execution_count": null,
   "metadata": {},
   "outputs": [],
   "source": [
    "for t in  1:10\n",
    "    # tell the scheduler to run all actions up to t+1\n",
    "    upto!(sim.scheduler, time_now(sim.scheduler) + 1.0)\n",
    "    # a bit of output\n",
    "    println(time_now(sim.scheduler), \", \", \n",
    "        count(p -> p.status == infected, sim.pop), \", \",\n",
    "        count(p -> p.status == susceptible, sim.pop))\n",
    "end"
   ]
  },
  {
   "cell_type": "markdown",
   "metadata": {},
   "source": [
    "# Visualisation"
   ]
  },
  {
   "cell_type": "markdown",
   "metadata": {},
   "source": [
    "It is generally a good idea to have a proper visualisation for a simulation. It makes it a lot easier to catch bugs, over time it provides an intuition of the system's behaviour and it is fun.\n",
    "\n",
    "Usually it would be good to have a dynamic display of the system state over time, but for this simple example we will make do with static output. If you want to track the progress of the simulation you can just execute the previous block again and then rerun the visualisation."
   ]
  },
  {
   "cell_type": "code",
   "execution_count": null,
   "metadata": {},
   "outputs": [],
   "source": [
    "# this uses the Luxor package, which allows for very straighforward \n",
    "# generation of SVG drawings\n",
    "@svg begin\n",
    "    # scale from model coordinates to screen coordinates\n",
    "    f_scale = 11\n",
    "    # size of agents\n",
    "    p_size = 5\n",
    "    \n",
    "    # otherwise we'll only have to lower right quarter\n",
    "    # (don't ask...)\n",
    "    origin(0, 0)\n",
    "\n",
    "    # paint it black\n",
    "    sethue(\"black\")\n",
    "    \n",
    "    # ** first draw all connections\n",
    "    # (we don't want to worry about agent size here,\n",
    "    #  so we just draw the lines from x1,y1 to x2,y2\n",
    "    #  and paint the agents on top of that)\n",
    "    \n",
    "    # for each agent\n",
    "    for p in sim.pop\n",
    "        x1 = p.x * f_scale\n",
    "        y1 = p.y * f_scale\n",
    "        \n",
    "        # draw all lines to other agents\n",
    "        for p2 in p.contacts\n",
    "            x2 = p2.x * f_scale\n",
    "            y2 = p2.y * f_scale\n",
    "            \n",
    "            setline(1)\n",
    "            setdash(\"solid\")\n",
    "            line(Point(x1, y1), Point(x2, y2), :stroke)\n",
    "        end\n",
    "    end\n",
    "    # yes, this draws all lines twice\n",
    "    # who cares\n",
    "\n",
    "    # ** now draw all agents\n",
    "    \n",
    "    for p in sim.pop\n",
    "        x = p.x * f_scale\n",
    "        y = p.y * f_scale\n",
    "        \n",
    "        # show the status as colours\n",
    "        if p.status == infected\n",
    "            sethue(\"red\")\n",
    "        elseif p.status == susceptible\n",
    "            sethue(\"blue\")\n",
    "        end\n",
    "        \n",
    "        circle(Point(x, y), p_size, :fill)\n",
    "    end\n",
    "end"
   ]
  },
  {
   "cell_type": "markdown",
   "metadata": {},
   "source": [
    "# Things to try\n",
    "\n",
    "* Run for longer, is there an equilibrium or an end state?\n",
    "* Try different values for `inf` and `rec`.\n",
    "* Does changing the shape of the world (`x` vs. `y` size) have an effect?\n",
    "* Add more patient zeros, e.g. at 50, 50."
   ]
  },
  {
   "cell_type": "code",
   "execution_count": null,
   "metadata": {},
   "outputs": [],
   "source": []
  }
 ],
 "metadata": {
  "@webio": {
   "lastCommId": null,
   "lastKernelId": null
  },
  "kernelspec": {
   "display_name": "Julia 1.5.1",
   "language": "julia",
   "name": "julia-1.5"
  },
  "language_info": {
   "file_extension": ".jl",
   "mimetype": "application/julia",
   "name": "julia",
   "version": "1.5.1"
  }
 },
 "nbformat": 4,
 "nbformat_minor": 2
}
