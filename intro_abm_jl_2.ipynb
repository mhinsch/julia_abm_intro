{
 "cells": [
  {
   "cell_type": "markdown",
   "metadata": {},
   "source": [
    "# Introduction"
   ]
  },
  {
   "cell_type": "markdown",
   "metadata": {},
   "source": [
    "In this part we will look at a few extensions of the model and the effect of different world topologies."
   ]
  },
  {
   "cell_type": "code",
   "execution_count": null,
   "metadata": {},
   "outputs": [],
   "source": [
    "using Random\n",
    "\n",
    "include(\"SimpleAgentEvents/src/SimpleAgentEvents.jl\")\n",
    "\n",
    "using .SimpleAgentEvents\n",
    "using .SimpleAgentEvents.Scheduler"
   ]
  },
  {
   "cell_type": "markdown",
   "metadata": {},
   "source": [
    "Agents can now be `immune` and `dead` as well."
   ]
  },
  {
   "cell_type": "code",
   "execution_count": null,
   "metadata": {},
   "outputs": [],
   "source": [
    "@enum Status susceptible infected immune dead\n",
    "\n",
    "mutable struct Person\n",
    "    status :: Status\n",
    "    contacts :: Vector{Person}\n",
    "    x :: Float64\n",
    "    y :: Float64\n",
    "end\n",
    "\n",
    "Person(x, y) = Person(susceptible, [], x, y)\n",
    "Person(state, x, y) = Person(state, [], x, y)"
   ]
  },
  {
   "cell_type": "code",
   "execution_count": null,
   "metadata": {},
   "outputs": [],
   "source": [
    "mutable struct Simulation\n",
    "    scheduler :: PQScheduler{Float64}\n",
    "    # infection rate\n",
    "    inf :: Float64\n",
    "    # recovery rate\n",
    "    rec :: Float64\n",
    "    # new parameters:\n",
    "    # immunisation rate\n",
    "    imm :: Float64\n",
    "    # mortality rate\n",
    "    mort :: Float64\n",
    "    \n",
    "    pop :: Vector{Person}\n",
    "end\n",
    "\n",
    "scheduler(sim :: Simulation) = sim.scheduler\n",
    "\n",
    "Simulation(i, r, u, m) = Simulation(PQScheduler{Float64}(), i, r, u, m, [])"
   ]
  },
  {
   "cell_type": "markdown",
   "metadata": {},
   "source": [
    "# Extension 1 - immunity"
   ]
  },
  {
   "cell_type": "markdown",
   "metadata": {},
   "source": [
    "For the first extension I let infected agents become immune instead of susceptible again with a certain rate."
   ]
  },
  {
   "cell_type": "code",
   "execution_count": null,
   "metadata": {},
   "outputs": [],
   "source": [
    "@processes SIR sim person::Person begin\n",
    "    @poisson(sim.inf * count(p -> p.status == infected, person.contacts)) ~\n",
    "        person.status == susceptible        => \n",
    "            begin\n",
    "                person.status = infected\n",
    "                [person; person.contacts]\n",
    "            end\n",
    "\n",
    "    @poisson(sim.rec)  ~\n",
    "        person.status == infected           => \n",
    "            begin\n",
    "                person.status = susceptible\n",
    "                [person; person.contacts]\n",
    "            end\n",
    "    \n",
    "    # now agents become immune after having been infected\n",
    "    @poisson(sim.imm)  ~\n",
    "        person.status == infected           => \n",
    "            begin\n",
    "                person.status = immune\n",
    "                # an immune agent effectively becomes inactive, so\n",
    "                # only the contacts are returned to the scheduler\n",
    "                person.contacts\n",
    "            end\n",
    "end\n"
   ]
  },
  {
   "cell_type": "markdown",
   "metadata": {},
   "source": [
    "We are including a second file here. It contains the visualisation code from the previous notebook as a function."
   ]
  },
  {
   "cell_type": "code",
   "execution_count": null,
   "metadata": {},
   "outputs": [],
   "source": [
    "include(\"setup_world.jl\")\n",
    "include(\"draw.jl\")"
   ]
  },
  {
   "cell_type": "code",
   "execution_count": null,
   "metadata": {},
   "outputs": [],
   "source": [
    "sim = Simulation(0.5, 0.1, 0.2, 0)\n",
    "sim.pop = setup_grid(50, 50)\n",
    "sim.pop[1].status = infected\n",
    "\n",
    "for person in sim.pop\n",
    "    spawn_SIR(person, sim)\n",
    "end\n",
    "\n",
    "Random.seed!(42);"
   ]
  },
  {
   "cell_type": "code",
   "execution_count": null,
   "metadata": {},
   "outputs": [],
   "source": [
    "for t in  1:10\n",
    "    upto!(sim.scheduler, time_now(sim.scheduler) + 1.0)\n",
    "    println(time_now(sim.scheduler), \", \", \n",
    "        count(p -> p.status == infected, sim.pop), \", \",\n",
    "        count(p -> p.status == susceptible, sim.pop))\n",
    "end"
   ]
  },
  {
   "cell_type": "markdown",
   "metadata": {},
   "source": [
    "For convenience I have put the visualisation code into a function."
   ]
  },
  {
   "cell_type": "code",
   "execution_count": null,
   "metadata": {},
   "outputs": [],
   "source": [
    "draw_sim(sim)"
   ]
  },
  {
   "cell_type": "markdown",
   "metadata": {},
   "source": [
    "# Extension 2 - mortality"
   ]
  },
  {
   "cell_type": "markdown",
   "metadata": {},
   "source": [
    "Now we also assume that the infected people can die."
   ]
  },
  {
   "cell_type": "code",
   "execution_count": null,
   "metadata": {},
   "outputs": [],
   "source": [
    "@processes SIRm sim person::Person begin\n",
    "    @poisson(sim.inf * count(p -> p.status == infected, person.contacts)) ~\n",
    "        person.status == susceptible        => \n",
    "            begin\n",
    "                person.status = infected\n",
    "                [person; person.contacts]\n",
    "            end\n",
    "\n",
    "    @poisson(sim.rec)  ~\n",
    "        person.status == infected           => \n",
    "            begin\n",
    "                person.status = susceptible\n",
    "                [person; person.contacts]\n",
    "            end\n",
    "\n",
    "    @poisson(sim.imm)  ~\n",
    "        person.status == infected           => \n",
    "            begin\n",
    "                person.status = immune\n",
    "                person.contacts\n",
    "            end\n",
    "    \n",
    "    # mortality\n",
    "    @poisson(sim.mort)  ~\n",
    "        person.status == infected           => \n",
    "            begin\n",
    "                person.status = dead\n",
    "                person.contacts\n",
    "            end    \n",
    "end\n"
   ]
  },
  {
   "cell_type": "code",
   "execution_count": null,
   "metadata": {},
   "outputs": [],
   "source": [
    "sim_m = Simulation(0.5, 0.1, 0.2, 0.1)\n",
    "sim_m.pop = setup_grid(50, 50)\n",
    "sim_m.pop[1].status = infected\n",
    "\n",
    "\n",
    "for person in sim_m.pop\n",
    "    spawn_SIRm(person, sim_m)\n",
    "end\n",
    "\n",
    "Random.seed!(42);"
   ]
  },
  {
   "cell_type": "code",
   "execution_count": null,
   "metadata": {},
   "outputs": [],
   "source": [
    "for t in  1:10\n",
    "    upto!(sim_m.scheduler, time_now(sim_m.scheduler) + 1.0)\n",
    "    println(time_now(sim_m.scheduler), \", \", \n",
    "        count(p -> p.status == infected, sim_m.pop), \", \",\n",
    "        count(p -> p.status == susceptible, sim_m.pop))\n",
    "end\n"
   ]
  },
  {
   "cell_type": "code",
   "execution_count": null,
   "metadata": {},
   "outputs": [],
   "source": [
    "draw_sim(sim_m)"
   ]
  },
  {
   "cell_type": "markdown",
   "metadata": {},
   "source": [
    "# Extension 3 - topology"
   ]
  },
  {
   "cell_type": "markdown",
   "metadata": {},
   "source": [
    "Now, instead of a regular grid, we place the agent on an irregular graph. The algorithm is called a [random geometric graph](https://en.wikipedia.org/wiki/Random_geometric_graph) and was used as one of the first (very simple) models of transport networks.\n",
    "\n",
    "The function is declared as follows:\n",
    "```Julia\n",
    "function setup_geograph(n = 2500, near = 0.05, rand_cont = 0)\n",
    "```\n",
    "with number of nodes `n`, threshold to connect nodes `near` (don't set this much higher or it might crash your browser) and number of additional random connections `rand_cont` (the latter is not part of the original RGG)."
   ]
  },
  {
   "cell_type": "code",
   "execution_count": null,
   "metadata": {},
   "outputs": [],
   "source": [
    "sim_m2 = Simulation(0.5, 0.1, 0.2, 0.1)\n",
    "sim_m2.pop = setup_geograph(2500, 0.03, 100)\n",
    "sim_m2.pop[1].status = infected\n",
    "\n",
    "for person in sim_m2.pop\n",
    "    spawn_SIRm(person, sim_m2)\n",
    "end\n",
    "\n",
    "Random.seed!(42);"
   ]
  },
  {
   "cell_type": "code",
   "execution_count": null,
   "metadata": {},
   "outputs": [],
   "source": [
    "for t in  1:10\n",
    "    upto!(sim_m2.scheduler, time_now(sim_m2.scheduler) + 1.0)\n",
    "    println(time_now(sim_m2.scheduler), \", \", \n",
    "        count(p -> p.status == infected, sim_m.pop), \", \",\n",
    "        count(p -> p.status == susceptible, sim_m.pop))\n",
    "end\n"
   ]
  },
  {
   "cell_type": "code",
   "execution_count": null,
   "metadata": {},
   "outputs": [],
   "source": [
    "draw_sim(sim_m2)"
   ]
  },
  {
   "cell_type": "code",
   "execution_count": null,
   "metadata": {},
   "outputs": [],
   "source": []
  }
 ],
 "metadata": {
  "@webio": {
   "lastCommId": null,
   "lastKernelId": null
  },
  "kernelspec": {
   "display_name": "Julia 1.2.0",
   "language": "julia",
   "name": "julia-1.2"
  },
  "language_info": {
   "file_extension": ".jl",
   "mimetype": "application/julia",
   "name": "julia",
   "version": "1.2.0"
  }
 },
 "nbformat": 4,
 "nbformat_minor": 2
}
